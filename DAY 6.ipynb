{
 "cells": [
  {
   "cell_type": "code",
   "execution_count": 16,
   "metadata": {},
   "outputs": [
    {
     "name": "stdout",
     "output_type": "stream",
     "text": [
      "enter the mail id: angu@hotmail\n",
      "BOSCH\n"
     ]
    }
   ],
   "source": [
    "#ASSIGNMENT DAY6\n",
    "\n",
    "#QUESTION 1:\n",
    "\n",
    "d={1:\"TIST\",2:\"BOSCH\",3:\"ESM\"}\n",
    "a=input(\"enter the mail id: \")\n",
    "if a==\"aparna@gmail\":\n",
    "    print(d[1])\n",
    "if a==\"angu@hotmail\":\n",
    "    print(d[2])\n",
    "if a==\"apu@icloud\":\n",
    "    print(d[3])\n"
   ]
  },
  {
   "cell_type": "code",
   "execution_count": 29,
   "metadata": {},
   "outputs": [
    {
     "name": "stdout",
     "output_type": "stream",
     "text": [
      "['aparna', 'are', 'fine', 'hello', 'you']\n"
     ]
    }
   ],
   "source": [
    "#QUESTION 2:\n",
    "\n",
    "a=\" hello aparna are you fine\"\n",
    "word= a.split()\n",
    "word.sort()\n",
    "print(word)"
   ]
  },
  {
   "cell_type": "code",
   "execution_count": 129,
   "metadata": {},
   "outputs": [
    {
     "name": "stdout",
     "output_type": "stream",
     "text": [
      "[1, 2, 4, 5, 7]\n",
      "so the missing numbers are:  [3, 6]\n"
     ]
    }
   ],
   "source": [
    "#QUESTION 4:\n",
    "\n",
    "a=[1,2,5,4,7]\n",
    "a.sort()\n",
    "print(a)\n",
    "l=len(a)\n",
    "l=int(l)\n",
    "n=a[l-1]\n",
    "d=a[0]\n",
    "k=[]\n",
    "for i in range(d,n):\n",
    "    if i not in a:\n",
    "        k.append(i)\n",
    "    \n",
    "print(\"so the missing numbers are: \",k)"
   ]
  },
  {
   "cell_type": "code",
   "execution_count": 130,
   "metadata": {},
   "outputs": [
    {
     "name": "stdout",
     "output_type": "stream",
     "text": [
      "{1, 2, 3, 4, 5, 6}\n"
     ]
    }
   ],
   "source": [
    "#QUESTION 5:\n",
    "\n",
    "data=[1,2,3,4,4,5,2,1,6]\n",
    "print(set(data))\n"
   ]
  },
  {
   "cell_type": "markdown",
   "metadata": {},
   "source": [
    "#QUESTION 3:\n",
    "\n",
    "JUPYTER NOTEBOOK FOR SETS:\n",
    "\n",
    "a) Set:\n",
    "    A set is a collection which is unordered and unindexed. In Python sets are written with curly         brackets.\n",
    "\n",
    "Example:\n",
    "          Create a Set:\n",
    "          thisset = {\"apple\", \"banana\", \"cherry\"}\n",
    "          print(thisset) \n",
    "          \n",
    "          OUTPUT:\n",
    "          {'apple', 'banana', 'cherry'}\n",
    "          \n",
    "b) Access Items:\n",
    "         You cannot access items in a set by referring to an index, since sets are unordered the              items has no index.\n",
    "         But you can loop through the set items using a for loop, or ask if a specified value is              present in a set, by using the in keyword.\n",
    "         \n",
    "Example:\n",
    "\n",
    "         Loop through the set, and print the values:\n",
    "         thisset = {\"apple\", \"banana\", \"cherry\"}\n",
    "         for x in thisset:\n",
    "         print(x) \n",
    "         \n",
    "         OUTPUT:\n",
    "         apple\n",
    "         banana\n",
    "         cherry\n",
    "         \n",
    "Example:\n",
    "       Check if \"banana\" is present in the set:\n",
    "       thisset = {\"apple\", \"banana\", \"cherry\"}\n",
    "       print(\"banana\" in thisset)\n",
    "       \n",
    "       OUTPUT:\n",
    "       True\n",
    "c) Change Items:\n",
    "          Once a set is created, you cannot change its items, but you can add new items.\n",
    "\n",
    "  Add Items:\n",
    "       To add one item to a set use the add() method.\n",
    "       To add more than one item to a set use the update() method.\n",
    "       \n",
    "Example:\n",
    "       Add an item to a set, using the add() method:\n",
    "       thisset = {\"apple\", \"banana\", \"cherry\"}\n",
    "       thisset.add(\"orange\")\n",
    "       print(thisset) \n",
    "       \n",
    "       OUTPUT:\n",
    "       {'apple', 'orange', 'banana', 'cherry'}\n",
    "       \n",
    "Example:\n",
    "      Add multiple items to a set, using the update() method:\n",
    "      thisset = {\"apple\", \"banana\", \"cherry\"}\n",
    "      thisset.update([\"orange\", \"mango\", \"grapes\"])\n",
    "      print(thisset) \n",
    "      \n",
    "      OUTPUT:\n",
    "      {'grapes', 'cherry', 'orange', 'banana', 'mango', 'apple'}\n",
    "      \n",
    "d) Get the Length of a Set:\n",
    "      To determine how many items a set has, use the len() method.\n",
    "Example:\n",
    "      Get the number of items in a set:\n",
    "      thisset = {\"apple\", \"banana\", \"cherry\"}\n",
    "      print(len(thisset)) \n",
    "      \n",
    "      OUTPUT:\n",
    "      3\n",
    "e) Remove Item:\n",
    "      To remove an item in a set, use the remove(), or the discard() method.\n",
    "Example:\n",
    "      Remove \"banana\" by using the remove() method:\n",
    "      thisset = {\"apple\", \"banana\", \"cherry\"}\n",
    "      thisset.remove(\"banana\")\n",
    "      print(thisset) \n",
    "      \n",
    "      OUTPUT:\n",
    "      {'apple', 'cherry'}\n",
    "      \n",
    "      You can also use the pop(), method to remove an item, but this method will remove the last           item. Remember that sets are unordered, so you will not know what item that gets removed.\n",
    "      The return value of the pop() method is the removed item.\n",
    "Example:\n",
    "      Remove the last item by using the pop() method:\n",
    "      thisset = {\"apple\", \"banana\", \"cherry\"}\n",
    "      x = thisset.pop()\n",
    "      print(x)\n",
    "      print(thisset) \n",
    "      \n",
    "      OUTPUT:\n",
    "      apple\n",
    "     {'banana', 'cherry'}\n",
    "     \n",
    "     The clear() method empties the set:\n",
    "     thisset = {\"apple\", \"banana\", \"cherry\"}\n",
    "     thisset.clear()\n",
    "     print(thisset) \n",
    "     \n",
    "     OUTPUT:\n",
    "     set()\n",
    "Example:\n",
    "     The del keyword will delete the set completely:\n",
    "     thisset = {\"apple\", \"banana\", \"cherry\"}\n",
    "     del thisset\n",
    "     print(thisset) \n",
    "     \n",
    "     OUTPUT:\n",
    "     set()\n",
    "g)Join Two Sets:\n",
    "     There are several ways to join two or more sets in Python.\n",
    "     You can use the union() method that returns a new set containing all items from both sets, or        the update() method that inserts all the items from one set into another:\n",
    "Example:\n",
    "     The union() method returns a new set with all items from both sets:\n",
    "     set1 = {\"a\", \"b\" , \"c\"}\n",
    "     set2 = {1, 2, 3}\n",
    "     set3 = set1.union(set2)\n",
    "     print(set3) \n",
    "     \n",
    "     OUTPUT:\n",
    "     {1, 2, 'a', 'b', 3, 'c'}\n",
    "     \n",
    "Example:\n",
    "     The update() method inserts the items in set2 into set1:\n",
    "     set1 = {\"a\", \"b\" , \"c\"}\n",
    "     set2 = {1, 2, 3}\n",
    "     set1.update(set2)\n",
    "     print(set1) \n",
    "\n",
    "      OUTPUT:\n",
    "     {1, 2, 'a', 'b', 3, 'c'}\n",
    "h) The set() Constructor:\n",
    "   It is also possible to use the set() constructor to make a set.\n",
    "Example:\n",
    "   Using the set() constructor to make a set:\n",
    "   thisset = set((\"apple\", \"banana\", \"cherry\")) # note the double round-brackets\n",
    "   print(thisset)\n",
    "   \n",
    "   OUTPUT:\n",
    "   {'apple', 'banana', 'cherry'}\n",
    "   \n",
    "i)Set Methods:\n",
    "    Apart from all the above instructions,Python has many more set of built-in methods that you can use in sets.\n",
    "\n",
    "add():Adds an element to the set\n",
    "clear():Removes all the elements from the set\n",
    "copy():Returns a copy of the set\n",
    "difference():Returns a set containing the difference between two or more sets\n",
    "difference_update():Removes the items in this set that are also included in another, specified set\n",
    "discard():Remove the specified item\n",
    "intersection():Returns a set, that is the intersection of two other sets\n",
    "intersection_update():Removes the items in this set that are not present in other, specified set(s)\n",
    "isdisjoint():Returns whether two sets have a intersection or not\n",
    "issubset():Returns whether another set contains this set or not\n",
    "issuperset():Returns whether this set contains another set or not\n",
    "pop():Removes an element from the set\n",
    "remove():Removes the specified element\n",
    "\n",
    "\n"
   ]
  },
  {
   "cell_type": "code",
   "execution_count": 150,
   "metadata": {},
   "outputs": [
    {
     "name": "stdout",
     "output_type": "stream",
     "text": [
      "apple\n",
      "banana\n",
      "cherry\n"
     ]
    }
   ],
   "source": [
    "#QUESTION 3:\n",
    "\n",
    "#EXAMPLE PROGRAMS FOR SETS:\n",
    "\n",
    "thisset = {\"apple\", \"banana\", \"cherry\"}\n",
    "for x in thisset:\n",
    "    print(x)\n",
    "         \n",
    "        "
   ]
  },
  {
   "cell_type": "code",
   "execution_count": null,
   "metadata": {},
   "outputs": [],
   "source": []
  }
 ],
 "metadata": {
  "kernelspec": {
   "display_name": "Python 3",
   "language": "python",
   "name": "python3"
  },
  "language_info": {
   "codemirror_mode": {
    "name": "ipython",
    "version": 3
   },
   "file_extension": ".py",
   "mimetype": "text/x-python",
   "name": "python",
   "nbconvert_exporter": "python",
   "pygments_lexer": "ipython3",
   "version": "3.7.6"
  }
 },
 "nbformat": 4,
 "nbformat_minor": 4
}
